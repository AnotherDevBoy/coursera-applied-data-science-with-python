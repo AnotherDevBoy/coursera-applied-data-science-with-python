{
 "cells": [
  {
   "cell_type": "markdown",
   "metadata": {},
   "source": [
    "---\n",
    "\n",
    "_You are currently looking at **version 1.1** of this notebook. To download notebooks and datafiles, as well as get help on Jupyter notebooks in the Coursera platform, visit the [Jupyter Notebook FAQ](https://www.coursera.org/learn/python-machine-learning/resources/bANLa) course resource._\n",
    "\n",
    "---"
   ]
  },
  {
   "cell_type": "markdown",
   "metadata": {},
   "source": [
    "## Assignment 4 - Understanding and Predicting Property Maintenance Fines\n",
    "\n",
    "This assignment is based on a data challenge from the Michigan Data Science Team ([MDST](http://midas.umich.edu/mdst/)). \n",
    "\n",
    "The Michigan Data Science Team ([MDST](http://midas.umich.edu/mdst/)) and the Michigan Student Symposium for Interdisciplinary Statistical Sciences ([MSSISS](https://sites.lsa.umich.edu/mssiss/)) have partnered with the City of Detroit to help solve one of the most pressing problems facing Detroit - blight. [Blight violations](http://www.detroitmi.gov/How-Do-I/Report/Blight-Complaint-FAQs) are issued by the city to individuals who allow their properties to remain in a deteriorated condition. Every year, the city of Detroit issues millions of dollars in fines to residents and every year, many of these fines remain unpaid. Enforcing unpaid blight fines is a costly and tedious process, so the city wants to know: how can we increase blight ticket compliance?\n",
    "\n",
    "The first step in answering this question is understanding when and why a resident might fail to comply with a blight ticket. This is where predictive modeling comes in. For this assignment, your task is to predict whether a given blight ticket will be paid on time.\n",
    "\n",
    "All data for this assignment has been provided to us through the [Detroit Open Data Portal](https://data.detroitmi.gov/). **Only the data already included in your Coursera directory can be used for training the model for this assignment.** Nonetheless, we encourage you to look into data from other Detroit datasets to help inform feature creation and model selection. We recommend taking a look at the following related datasets:\n",
    "\n",
    "* [Building Permits](https://data.detroitmi.gov/Property-Parcels/Building-Permits/xw2a-a7tf)\n",
    "* [Trades Permits](https://data.detroitmi.gov/Property-Parcels/Trades-Permits/635b-dsgv)\n",
    "* [Improve Detroit: Submitted Issues](https://data.detroitmi.gov/Government/Improve-Detroit-Submitted-Issues/fwz3-w3yn)\n",
    "* [DPD: Citizen Complaints](https://data.detroitmi.gov/Public-Safety/DPD-Citizen-Complaints-2016/kahe-efs3)\n",
    "* [Parcel Map](https://data.detroitmi.gov/Property-Parcels/Parcel-Map/fxkw-udwf)\n",
    "\n",
    "___\n",
    "\n",
    "We provide you with two data files for use in training and validating your models: train.csv and test.csv. Each row in these two files corresponds to a single blight ticket, and includes information about when, why, and to whom each ticket was issued. The target variable is compliance, which is True if the ticket was paid early, on time, or within one month of the hearing data, False if the ticket was paid after the hearing date or not at all, and Null if the violator was found not responsible. Compliance, as well as a handful of other variables that will not be available at test-time, are only included in train.csv.\n",
    "\n",
    "Note: All tickets where the violators were found not responsible are not considered during evaluation. They are included in the training set as an additional source of data for visualization, and to enable unsupervised and semi-supervised approaches. However, they are not included in the test set.\n",
    "\n",
    "<br>\n",
    "\n",
    "**File descriptions** (Use only this data for training your model!)\n",
    "\n",
    "    train.csv - the training set (all tickets issued 2004-2011)\n",
    "    test.csv - the test set (all tickets issued 2012-2016)\n",
    "    addresses.csv & latlons.csv - mapping from ticket id to addresses, and from addresses to lat/lon coordinates. \n",
    "     Note: misspelled addresses may be incorrectly geolocated.\n",
    "\n",
    "<br>\n",
    "\n",
    "**Data fields**\n",
    "\n",
    "train.csv & test.csv\n",
    "\n",
    "    ticket_id - unique identifier for tickets\n",
    "    agency_name - Agency that issued the ticket\n",
    "    inspector_name - Name of inspector that issued the ticket\n",
    "    violator_name - Name of the person/organization that the ticket was issued to\n",
    "    violation_street_number, violation_street_name, violation_zip_code - Address where the violation occurred\n",
    "    mailing_address_str_number, mailing_address_str_name, city, state, zip_code, non_us_str_code, country - Mailing address of the violator\n",
    "    ticket_issued_date - Date and time the ticket was issued\n",
    "    hearing_date - Date and time the violator's hearing was scheduled\n",
    "    violation_code, violation_description - Type of violation\n",
    "    disposition - Judgment and judgement type\n",
    "    fine_amount - Violation fine amount, excluding fees\n",
    "    admin_fee - $20 fee assigned to responsible judgments\n",
    "state_fee - $10 fee assigned to responsible judgments\n",
    "    late_fee - 10% fee assigned to responsible judgments\n",
    "    discount_amount - discount applied, if any\n",
    "    clean_up_cost - DPW clean-up or graffiti removal cost\n",
    "    judgment_amount - Sum of all fines and fees\n",
    "    grafitti_status - Flag for graffiti violations\n",
    "    \n",
    "train.csv only\n",
    "\n",
    "    payment_amount - Amount paid, if any\n",
    "    payment_date - Date payment was made, if it was received\n",
    "    payment_status - Current payment status as of Feb 1 2017\n",
    "    balance_due - Fines and fees still owed\n",
    "    collection_status - Flag for payments in collections\n",
    "    compliance [target variable for prediction] \n",
    "     Null = Not responsible\n",
    "     0 = Responsible, non-compliant\n",
    "     1 = Responsible, compliant\n",
    "    compliance_detail - More information on why each ticket was marked compliant or non-compliant\n",
    "\n",
    "\n",
    "___\n",
    "\n",
    "## Evaluation\n",
    "\n",
    "Your predictions will be given as the probability that the corresponding blight ticket will be paid on time.\n",
    "\n",
    "The evaluation metric for this assignment is the Area Under the ROC Curve (AUC). \n",
    "\n",
    "Your grade will be based on the AUC score computed for your classifier. A model which with an AUROC of 0.7 passes this assignment, over 0.75 will recieve full points.\n",
    "___\n",
    "\n",
    "For this assignment, create a function that trains a model to predict blight ticket compliance in Detroit using `train.csv`. Using this model, return a series of length 61001 with the data being the probability that each corresponding ticket from `test.csv` will be paid, and the index being the ticket_id.\n",
    "\n",
    "Example:\n",
    "\n",
    "    ticket_id\n",
    "       284932    0.531842\n",
    "       285362    0.401958\n",
    "       285361    0.105928\n",
    "       285338    0.018572\n",
    "                 ...\n",
    "       376499    0.208567\n",
    "       376500    0.818759\n",
    "       369851    0.018528\n",
    "       Name: compliance, dtype: float32\n",
    "       \n",
    "### Hints\n",
    "\n",
    "* Make sure your code is working before submitting it to the autograder.\n",
    "\n",
    "* Print out your result to see whether there is anything weird (e.g., all probabilities are the same).\n",
    "\n",
    "* Generally the total runtime should be less than 10 mins. You should NOT use Neural Network related classifiers (e.g., MLPClassifier) in this question. \n",
    "\n",
    "* Try to avoid global variables. If you have other functions besides blight_model, you should move those functions inside the scope of blight_model.\n",
    "\n",
    "* Refer to the pinned threads in Week 4's discussion forum when there is something you could not figure it out."
   ]
  },
  {
   "cell_type": "code",
   "execution_count": 1,
   "metadata": {
    "collapsed": true
   },
   "outputs": [],
   "source": [
    "import pandas as pd\n",
    "import numpy as np\n",
    "from sklearn.preprocessing import LabelEncoder\n",
    "from sklearn.ensemble import RandomForestRegressor\n",
    "from sklearn.model_selection import train_test_split, GridSearchCV\n",
    "from sklearn.metrics import roc_auc_score\n",
    "\n",
    "def blight_model():\n",
    "    #######################################################################\n",
    "    # Data Processing and Cleanup\n",
    "    #######################################################################\n",
    "    train = pd.read_csv('train.csv', encoding = \"ISO-8859-1\")\n",
    "    test = pd.read_csv('test.csv', encoding = \"ISO-8859-1\")\n",
    "    addresses = pd.read_csv('addresses.csv', encoding = \"ISO-8859-1\")\n",
    "    latlons = pd.read_csv('latlons.csv', encoding = \"ISO-8859-1\")\n",
    "    \n",
    "    # Focus on the US\n",
    "    train = train[train.country == 'USA']\n",
    "    test = test[test.country == 'USA']\n",
    "    \n",
    "    # All tickets where the violators were found not responsible are not considered during evaluation\n",
    "    train = train[np.isfinite(train['compliance'])]\n",
    "    \n",
    "    # Add latitude and longitude information to train/test sets\n",
    "\n",
    "    train = pd.merge(train, pd.merge(addresses, latlons, on='address'), on='ticket_id')\n",
    "    test = pd.merge(test, pd.merge(addresses, latlons, on='address'), on='ticket_id')\n",
    "    \n",
    "    # Columns that are not available in the test set\n",
    "    columns_to_drop_train_set = ['payment_amount', 'balance_due', 'payment_date', 'payment_status', 'balance_due', 'collection_status', 'compliance_detail']\n",
    "    \n",
    "    # Fees are constant across all tickets\n",
    "    columns_to_drop_all_sets = ['admin_fee', 'state_fee']\n",
    "    \n",
    "    # Drop redundant geolocation information. We only care about latitude and longitude\n",
    "    columns_to_drop_all_sets = columns_to_drop_all_sets + ['violation_street_number', 'violation_street_name', 'violation_zip_code', 'mailing_address_str_number', 'mailing_address_str_name', 'city', 'state', 'zip_code', 'address', 'country', 'non_us_str_code']\n",
    "    \n",
    "    # Remove qualitative data such as names, descriptions, etc and information covered by other columns\n",
    "    columns_to_drop_all_sets = columns_to_drop_all_sets + ['agency_name', 'inspector_name', 'violator_name', 'violation_description', 'grafitti_status']\n",
    "    \n",
    "    # Remove date related fields. We could use the time_gap between them but there is missing hearing_date data in the train set\n",
    "    columns_to_drop_all_sets = columns_to_drop_all_sets + ['ticket_issued_date', 'hearing_date']\n",
    "    \n",
    "    # Removing redundant columns from train and test set\n",
    "    train.drop(columns_to_drop_train_set + columns_to_drop_all_sets, axis=1, inplace=True)\n",
    "    train_columns = list(train.columns.values)\n",
    "    train_columns.remove('compliance')\n",
    "    test = test[train_columns]\n",
    "    \n",
    "    # Making 'disposition' and 'violation_code' discrete values\n",
    "    label_encoder = LabelEncoder()\n",
    "    label_encoder.fit(train['disposition'].append(test['disposition'], ignore_index=True))\n",
    "    train['disposition'] = label_encoder.transform(train['disposition'])\n",
    "    test['disposition'] = label_encoder.transform(test['disposition'])\n",
    "    \n",
    "    label_encoder = LabelEncoder()\n",
    "    label_encoder.fit(train['violation_code'].append(test['violation_code'], ignore_index=True))\n",
    "    train['violation_code'] = label_encoder.transform(train['violation_code'])\n",
    "    test['violation_code'] = label_encoder.transform(test['violation_code'])\n",
    "    \n",
    "    # Latitude and Longitude had some missing values. We cannot just remove them from the test set because a result is expected\n",
    "    train = train.dropna()\n",
    "    test.lat.fillna(method='pad', inplace=True)\n",
    "    test.lon.fillna(method='pad', inplace=True)\n",
    "    \n",
    "    #######################################################################\n",
    "    # Machine Learning Time\n",
    "    #######################################################################\n",
    "    X_train, X_test, y_train, y_test = train_test_split(train[train_columns], train['compliance'])\n",
    "    \n",
    "    regr_rf = RandomForestRegressor()\n",
    "    grid_values = {'n_estimators': [10, 100], 'max_depth': [None, 30]}\n",
    "    grid_clf_auc = GridSearchCV(regr_rf, param_grid=grid_values, scoring='roc_auc')\n",
    "    grid_clf_auc.fit(X_train, y_train)\n",
    "    \n",
    "    return pd.DataFrame(grid_clf_auc.predict(test), test.ticket_id)"
   ]
  },
  {
   "cell_type": "code",
   "execution_count": 2,
   "metadata": {
    "collapsed": false
   },
   "outputs": [
    {
     "name": "stderr",
     "output_type": "stream",
     "text": [
      "/opt/conda/lib/python3.5/site-packages/IPython/core/interactiveshell.py:2717: DtypeWarning: Columns (11,12,31) have mixed types. Specify dtype option on import or set low_memory=False.\n",
      "  interactivity=interactivity, compiler=compiler, result=result)\n"
     ]
    }
   ],
   "source": [
    "#######################################################################\n",
    "# Data Processing and Cleanup\n",
    "#######################################################################\n",
    "train = pd.read_csv('train.csv', encoding = \"ISO-8859-1\")\n",
    "test = pd.read_csv('test.csv', encoding = \"ISO-8859-1\")\n",
    "addresses = pd.read_csv('addresses.csv', encoding = \"ISO-8859-1\")\n",
    "latlons = pd.read_csv('latlons.csv', encoding = \"ISO-8859-1\")\n",
    "\n",
    "# Focus on the US\n",
    "train = train[train.country == 'USA']\n",
    "test = test[test.country == 'USA']\n",
    "\n",
    "# All tickets where the violators were found not responsible are not considered during evaluation\n",
    "train = train[np.isfinite(train['compliance'])]\n",
    "\n",
    "# Add latitude and longitude information to train/test sets\n",
    "\n",
    "train = pd.merge(train, pd.merge(addresses, latlons, on='address'), on='ticket_id')\n",
    "test = pd.merge(test, pd.merge(addresses, latlons, on='address'), on='ticket_id')\n",
    "\n",
    "# Columns that are not available in the test set\n",
    "columns_to_drop_train_set = ['payment_amount', 'balance_due', 'payment_date', 'payment_status', 'balance_due', 'collection_status', 'compliance_detail']\n",
    "\n",
    "# Fees are constant across all tickets\n",
    "columns_to_drop_all_sets = ['admin_fee', 'state_fee']\n",
    "\n",
    "# Drop redundant geolocation information. We only care about latitude and longitude\n",
    "columns_to_drop_all_sets = columns_to_drop_all_sets + ['violation_street_number', 'violation_street_name', 'violation_zip_code', 'mailing_address_str_number', 'mailing_address_str_name', 'city', 'state', 'zip_code', 'address', 'country', 'non_us_str_code']\n",
    "\n",
    "# Remove qualitative data such as names, descriptions, etc and information covered by other columns\n",
    "columns_to_drop_all_sets = columns_to_drop_all_sets + ['agency_name', 'inspector_name', 'violator_name', 'violation_description', 'grafitti_status']\n",
    "\n",
    "# Remove date related fields. We could use the time_gap between them but there is missing hearing_date data in the train set\n",
    "columns_to_drop_all_sets = columns_to_drop_all_sets + ['ticket_issued_date', 'hearing_date']\n",
    "\n",
    "# Removing redundant columns from train and test set\n",
    "train.drop(columns_to_drop_train_set + columns_to_drop_all_sets, axis=1, inplace=True)\n",
    "train_columns = list(train.columns.values)\n",
    "train_columns.remove('compliance')\n",
    "test = test[train_columns]\n",
    "\n",
    "# Making 'disposition' and 'violation_code' discrete values\n",
    "label_encoder = LabelEncoder()\n",
    "label_encoder.fit(train['disposition'].append(test['disposition'], ignore_index=True))\n",
    "train['disposition'] = label_encoder.transform(train['disposition'])\n",
    "test['disposition'] = label_encoder.transform(test['disposition'])\n",
    "\n",
    "label_encoder = LabelEncoder()\n",
    "label_encoder.fit(train['violation_code'].append(test['violation_code'], ignore_index=True))\n",
    "train['violation_code'] = label_encoder.transform(train['violation_code'])\n",
    "test['violation_code'] = label_encoder.transform(test['violation_code'])\n",
    "\n",
    "# Latitude and Longitude had some missing values. We cannot just remove them from the test set because a result is expected\n",
    "train = train.dropna()\n",
    "test.lat.fillna(method='pad', inplace=True)\n",
    "test.lon.fillna(method='pad', inplace=True)"
   ]
  },
  {
   "cell_type": "code",
   "execution_count": 3,
   "metadata": {
    "collapsed": false
   },
   "outputs": [
    {
     "data": {
      "text/plain": [
       "Index(['ticket_id', 'violation_code', 'disposition', 'fine_amount', 'late_fee',\n",
       "       'discount_amount', 'clean_up_cost', 'judgment_amount', 'compliance',\n",
       "       'lat', 'lon'],\n",
       "      dtype='object')"
      ]
     },
     "execution_count": 3,
     "metadata": {},
     "output_type": "execute_result"
    }
   ],
   "source": [
    "train.columns"
   ]
  },
  {
   "cell_type": "code",
   "execution_count": 4,
   "metadata": {
    "collapsed": false
   },
   "outputs": [
    {
     "data": {
      "text/html": [
       "<div>\n",
       "<table border=\"1\" class=\"dataframe\">\n",
       "  <thead>\n",
       "    <tr style=\"text-align: right;\">\n",
       "      <th></th>\n",
       "      <th>ticket_id</th>\n",
       "      <th>violation_code</th>\n",
       "      <th>disposition</th>\n",
       "      <th>fine_amount</th>\n",
       "      <th>late_fee</th>\n",
       "      <th>discount_amount</th>\n",
       "      <th>clean_up_cost</th>\n",
       "      <th>judgment_amount</th>\n",
       "      <th>compliance</th>\n",
       "      <th>lat</th>\n",
       "      <th>lon</th>\n",
       "    </tr>\n",
       "  </thead>\n",
       "  <tbody>\n",
       "    <tr>\n",
       "      <th>0</th>\n",
       "      <td>22056</td>\n",
       "      <td>175</td>\n",
       "      <td>5</td>\n",
       "      <td>250.0</td>\n",
       "      <td>25.0</td>\n",
       "      <td>0.0</td>\n",
       "      <td>0.0</td>\n",
       "      <td>305.0</td>\n",
       "      <td>0.0</td>\n",
       "      <td>42.390729</td>\n",
       "      <td>-83.124268</td>\n",
       "    </tr>\n",
       "    <tr>\n",
       "      <th>1</th>\n",
       "      <td>27586</td>\n",
       "      <td>98</td>\n",
       "      <td>6</td>\n",
       "      <td>750.0</td>\n",
       "      <td>75.0</td>\n",
       "      <td>0.0</td>\n",
       "      <td>0.0</td>\n",
       "      <td>855.0</td>\n",
       "      <td>1.0</td>\n",
       "      <td>42.326937</td>\n",
       "      <td>-83.135118</td>\n",
       "    </tr>\n",
       "    <tr>\n",
       "      <th>2</th>\n",
       "      <td>22046</td>\n",
       "      <td>175</td>\n",
       "      <td>5</td>\n",
       "      <td>250.0</td>\n",
       "      <td>25.0</td>\n",
       "      <td>0.0</td>\n",
       "      <td>0.0</td>\n",
       "      <td>305.0</td>\n",
       "      <td>0.0</td>\n",
       "      <td>42.145257</td>\n",
       "      <td>-83.208233</td>\n",
       "    </tr>\n",
       "    <tr>\n",
       "      <th>3</th>\n",
       "      <td>18738</td>\n",
       "      <td>97</td>\n",
       "      <td>5</td>\n",
       "      <td>750.0</td>\n",
       "      <td>75.0</td>\n",
       "      <td>0.0</td>\n",
       "      <td>0.0</td>\n",
       "      <td>855.0</td>\n",
       "      <td>0.0</td>\n",
       "      <td>42.433466</td>\n",
       "      <td>-83.023493</td>\n",
       "    </tr>\n",
       "    <tr>\n",
       "      <th>4</th>\n",
       "      <td>18735</td>\n",
       "      <td>96</td>\n",
       "      <td>5</td>\n",
       "      <td>100.0</td>\n",
       "      <td>10.0</td>\n",
       "      <td>0.0</td>\n",
       "      <td>0.0</td>\n",
       "      <td>140.0</td>\n",
       "      <td>0.0</td>\n",
       "      <td>42.388641</td>\n",
       "      <td>-83.037858</td>\n",
       "    </tr>\n",
       "  </tbody>\n",
       "</table>\n",
       "</div>"
      ],
      "text/plain": [
       "   ticket_id  violation_code  disposition  fine_amount  late_fee  \\\n",
       "0      22056             175            5        250.0      25.0   \n",
       "1      27586              98            6        750.0      75.0   \n",
       "2      22046             175            5        250.0      25.0   \n",
       "3      18738              97            5        750.0      75.0   \n",
       "4      18735              96            5        100.0      10.0   \n",
       "\n",
       "   discount_amount  clean_up_cost  judgment_amount  compliance        lat  \\\n",
       "0              0.0            0.0            305.0         0.0  42.390729   \n",
       "1              0.0            0.0            855.0         1.0  42.326937   \n",
       "2              0.0            0.0            305.0         0.0  42.145257   \n",
       "3              0.0            0.0            855.0         0.0  42.433466   \n",
       "4              0.0            0.0            140.0         0.0  42.388641   \n",
       "\n",
       "         lon  \n",
       "0 -83.124268  \n",
       "1 -83.135118  \n",
       "2 -83.208233  \n",
       "3 -83.023493  \n",
       "4 -83.037858  "
      ]
     },
     "execution_count": 4,
     "metadata": {},
     "output_type": "execute_result"
    }
   ],
   "source": [
    "train.head()"
   ]
  },
  {
   "cell_type": "code",
   "execution_count": 5,
   "metadata": {
    "collapsed": false
   },
   "outputs": [
    {
     "data": {
      "text/plain": [
       "159867"
      ]
     },
     "execution_count": 5,
     "metadata": {},
     "output_type": "execute_result"
    }
   ],
   "source": [
    "len(train)"
   ]
  },
  {
   "cell_type": "code",
   "execution_count": 6,
   "metadata": {
    "collapsed": false
   },
   "outputs": [
    {
     "data": {
      "text/plain": [
       "189"
      ]
     },
     "execution_count": 6,
     "metadata": {},
     "output_type": "execute_result"
    }
   ],
   "source": [
    "len(train.groupby('violation_code').count())"
   ]
  },
  {
   "cell_type": "code",
   "execution_count": 7,
   "metadata": {
    "collapsed": false
   },
   "outputs": [
    {
     "data": {
      "text/plain": [
       "4"
      ]
     },
     "execution_count": 7,
     "metadata": {},
     "output_type": "execute_result"
    }
   ],
   "source": [
    "len(train.groupby('disposition').count())"
   ]
  },
  {
   "cell_type": "code",
   "execution_count": 8,
   "metadata": {
    "collapsed": false
   },
   "outputs": [
    {
     "data": {
      "text/plain": [
       "ticket_id          0\n",
       "violation_code     0\n",
       "disposition        0\n",
       "fine_amount        0\n",
       "late_fee           0\n",
       "discount_amount    0\n",
       "clean_up_cost      0\n",
       "judgment_amount    0\n",
       "compliance         0\n",
       "lat                0\n",
       "lon                0\n",
       "dtype: int64"
      ]
     },
     "execution_count": 8,
     "metadata": {},
     "output_type": "execute_result"
    }
   ],
   "source": [
    "train.isnull().sum(axis = 0)"
   ]
  },
  {
   "cell_type": "code",
   "execution_count": 9,
   "metadata": {
    "collapsed": false
   },
   "outputs": [
    {
     "data": {
      "text/plain": [
       "ticket_id          0\n",
       "violation_code     0\n",
       "disposition        0\n",
       "fine_amount        0\n",
       "late_fee           0\n",
       "discount_amount    0\n",
       "clean_up_cost      0\n",
       "judgment_amount    0\n",
       "lat                0\n",
       "lon                0\n",
       "dtype: int64"
      ]
     },
     "execution_count": 9,
     "metadata": {},
     "output_type": "execute_result"
    }
   ],
   "source": [
    "test.isnull().sum(axis = 0)"
   ]
  },
  {
   "cell_type": "code",
   "execution_count": 10,
   "metadata": {
    "collapsed": false
   },
   "outputs": [
    {
     "name": "stdout",
     "output_type": "stream",
     "text": [
      "Grid best parameter (max. AUC):  {'n_estimators': 100, 'max_depth': 30}\n",
      "Grid best score (AUC):  0.812428464684\n"
     ]
    }
   ],
   "source": [
    "# Testing Random Forest Classifier\n",
    "X_train, X_test, y_train, y_test = train_test_split(train[train_columns], train['compliance'])\n",
    "    \n",
    "regr_rf = RandomForestRegressor()\n",
    "grid_values = {'n_estimators': [10, 100], 'max_depth': [None, 30]}\n",
    "grid_clf_auc = GridSearchCV(regr_rf, param_grid=grid_values, scoring='roc_auc')\n",
    "grid_clf_auc.fit(X_train, y_train)\n",
    "print('Grid best parameter (max. AUC): ', grid_clf_auc.best_params_)\n",
    "print('Grid best score (AUC): ', grid_clf_auc.best_score_)\n",
    "\n",
    "result = pd.DataFrame(grid_clf_auc.predict(test), test.ticket_id)"
   ]
  },
  {
   "cell_type": "code",
   "execution_count": null,
   "metadata": {
    "collapsed": true
   },
   "outputs": [],
   "source": []
  }
 ],
 "metadata": {
  "coursera": {
   "course_slug": "python-machine-learning",
   "graded_item_id": "nNS8l",
   "launcher_item_id": "yWWk7",
   "part_id": "w8BSS"
  },
  "kernelspec": {
   "display_name": "Python 3",
   "language": "python",
   "name": "python3"
  },
  "language_info": {
   "codemirror_mode": {
    "name": "ipython",
    "version": 3
   },
   "file_extension": ".py",
   "mimetype": "text/x-python",
   "name": "python",
   "nbconvert_exporter": "python",
   "pygments_lexer": "ipython3",
   "version": "3.6.2"
  }
 },
 "nbformat": 4,
 "nbformat_minor": 2
}
