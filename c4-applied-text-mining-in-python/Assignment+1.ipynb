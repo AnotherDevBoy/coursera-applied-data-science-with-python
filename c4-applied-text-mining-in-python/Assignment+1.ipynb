{
 "cells": [
  {
   "cell_type": "markdown",
   "metadata": {},
   "source": [
    "---\n",
    "\n",
    "_You are currently looking at **version 1.1** of this notebook. To download notebooks and datafiles, as well as get help on Jupyter notebooks in the Coursera platform, visit the [Jupyter Notebook FAQ](https://www.coursera.org/learn/python-text-mining/resources/d9pwm) course resource._\n",
    "\n",
    "---"
   ]
  },
  {
   "cell_type": "markdown",
   "metadata": {},
   "source": [
    "# Assignment 1\n",
    "\n",
    "In this assignment, you'll be working with messy medical data and using regex to extract relevant infromation from the data. \n",
    "\n",
    "Each line of the `dates.txt` file corresponds to a medical note. Each note has a date that needs to be extracted, but each date is encoded in one of many formats.\n",
    "\n",
    "The goal of this assignment is to correctly identify all of the different date variants encoded in this dataset and to properly normalize and sort the dates. \n",
    "\n",
    "Here is a list of some of the variants you might encounter in this dataset:\n",
    "* 04/20/2009; 04/20/09; 4/20/09; 4/3/09\n",
    "* Mar-20-2009; Mar 20, 2009; March 20, 2009;  Mar. 20, 2009; Mar 20 2009;\n",
    "* 20 Mar 2009; 20 March 2009; 20 Mar. 2009; 20 March, 2009\n",
    "* Mar 20th, 2009; Mar 21st, 2009; Mar 22nd, 2009\n",
    "* Feb 2009; Sep 2009; Oct 2010\n",
    "* 6/2008; 12/2009\n",
    "* 2009; 2010\n",
    "\n",
    "Once you have extracted these date patterns from the text, the next step is to sort them in ascending chronological order accoring to the following rules:\n",
    "* Assume all dates in xx/xx/xx format are mm/dd/yy\n",
    "* Assume all dates where year is encoded in only two digits are years from the 1900's (e.g. 1/5/89 is January 5th, 1989)\n",
    "* If the day is missing (e.g. 9/2009), assume it is the first day of the month (e.g. September 1, 2009).\n",
    "* If the month is missing (e.g. 2010), assume it is the first of January of that year (e.g. January 1, 2010).\n",
    "* Watch out for potential typos as this is a raw, real-life derived dataset.\n",
    "\n",
    "With these rules in mind, find the correct date in each note and return a pandas Series in chronological order of the original Series' indices.\n",
    "\n",
    "For example if the original series was this:\n",
    "\n",
    "    0    1999\n",
    "    1    2010\n",
    "    2    1978\n",
    "    3    2015\n",
    "    4    1985\n",
    "\n",
    "Your function should return this:\n",
    "\n",
    "    0    2\n",
    "    1    4\n",
    "    2    0\n",
    "    3    1\n",
    "    4    3\n",
    "\n",
    "Your score will be calculated using [Kendall's tau](https://en.wikipedia.org/wiki/Kendall_rank_correlation_coefficient), a correlation measure for ordinal data.\n",
    "\n",
    "*This function should return a Series of length 500 and dtype int.*"
   ]
  },
  {
   "cell_type": "code",
   "execution_count": 7,
   "metadata": {},
   "outputs": [
    {
     "data": {
      "text/plain": [
       "0         03/25/93 Total time of visit (in minutes):\\n\n",
       "1                       6/18/85 Primary Care Doctor:\\n\n",
       "2    sshe plans to move as of 7/8/71 In-Home Servic...\n",
       "3                7 on 9/27/75 Audit C Score Current:\\n\n",
       "4    2/6/96 sleep studyPain Treatment Pain Level (N...\n",
       "5                    .Per 7/06/79 Movement D/O note:\\n\n",
       "6    4, 5/18/78 Patient's thoughts about current su...\n",
       "7    10/24/89 CPT Code: 90801 - Psychiatric Diagnos...\n",
       "8                         3/7/86 SOS-10 Total Score:\\n\n",
       "9             (4/10/71)Score-1Audit C Score Current:\\n\n",
       "dtype: object"
      ]
     },
     "execution_count": 7,
     "metadata": {},
     "output_type": "execute_result"
    }
   ],
   "source": [
    "import pandas as pd\n",
    "import numpy as np\n",
    "import re\n",
    "\n",
    "doc = []\n",
    "with open('dates.txt') as file:\n",
    "    for line in file:\n",
    "        doc.append(line)\n",
    "\n",
    "df = pd.Series(doc)\n",
    "df.head(10)"
   ]
  },
  {
   "cell_type": "code",
   "execution_count": 8,
   "metadata": {},
   "outputs": [
    {
     "data": {
      "text/plain": [
       "500"
      ]
     },
     "execution_count": 8,
     "metadata": {},
     "output_type": "execute_result"
    }
   ],
   "source": [
    "len(df)"
   ]
  },
  {
   "cell_type": "code",
   "execution_count": 9,
   "metadata": {
    "collapsed": true
   },
   "outputs": [],
   "source": [
    "def date_sorter():\n",
    "    \n",
    "    dateslist = []\n",
    "    # type1 = r'\\d{1,2}[/]\\d{1,2}[/]\\d{2,4}' this doesn't work for all date, so after the first run we change it\n",
    "    type1 = r'(\\d{1,2})[/-](\\d{1,2})[/-](\\d{2,4})'\n",
    "    type2 = r'((?:Jan|Feb|Mar|Apr|May|Jun|Jul|Aug|Sep|Oct|Nov|Dec))[a-z]*[.]?[- ](\\d{1,2})[,]?[- ](\\d{4})'\n",
    "    type3 = r'(\\d{1,2}) ((?:Jan|Feb|Mar|Apr|May|Jun|Jul|Aug|Sep|Oct|Nov|Dec))[a-z]*[.,]? (\\d{4})'\n",
    "    type4 = r'((?:Jan|Feb|Mar|Apr|May|Jun|Jul|Aug|Sep|Oct|Nov|Dec))[a-z]* (\\d{1,2})[a-z]{2}[,] (\\d{4})'\n",
    "    type5 = r'((?:Jan|Feb|Mar|Apr|May|Jun|Jul|Aug|Sep|Oct|Nov|Dec))[a-z]*[,]? (\\d{4})'\n",
    "    # for type 5 there for example line 339 Apr, 1998\n",
    "    type6 = r'(\\d{1,2})[/](\\d{4})'\n",
    "    type7 = r'\\d{4}'\n",
    "    month_dict = {'Jan': '01', 'Feb': '02' ,'Mar': '03','Apr':'04','May':'05','Jun':'06',\n",
    "                  'Jul':'07','Aug':'08','Sep':'09','Oct':'10','Nov':'11','Dec':'12'}\n",
    "    count = 0\n",
    "    for s in df:\n",
    "        count += 1\n",
    "        if len(re.findall(type1,s)) != 0:\n",
    "            \n",
    "            date=list(re.findall(type1,s)[0]) # change to list, because re.findall(type1,s)[0] is a tuple, and we can't change value\n",
    "            if len(date[2])==2: # change ab into 19ab\n",
    "                date[2] ='19'+date[2]\n",
    "            if len(date[0])==1:\n",
    "                date[0] = '0'+ date[0]\n",
    "            if len(date[1])==1:\n",
    "                date[1] = '0'+ date[1]\n",
    "            dateslist.append(date[2]+date[0]+date[1])\n",
    "        elif len(re.findall(type2,s)) != 0: \n",
    "            \n",
    "            date=list(re.findall(type2,s)[0])\n",
    "            if len(date[1])==1:\n",
    "                date[1] = '0'+ date[1]\n",
    "            date[0] = month_dict[date[0]]\n",
    "            dateslist.append(date[2]+date[0]+date[1])\n",
    "        elif len(re.findall(type3,s)) != 0:\n",
    "            \n",
    "            date=list(re.findall(type3,s)[0])\n",
    "            if len(date[0])==1:\n",
    "                date[0] = '0'+ date[0]\n",
    "            date[1] = month_dict[date[1]]\n",
    "            dateslist.append(date[2]+date[1]+date[0])\n",
    "        elif len(re.findall(type4,s)) != 0:\n",
    "            \n",
    "            date=list(re.findall(type4,s)[0])\n",
    "            if len(date[1])==1:\n",
    "                date[1] = '0'+ date[1]\n",
    "            date[0] = month_dict[date[0]]\n",
    "            dateslist.append(date[2]+date[0]+date[1])\n",
    "        elif len(re.findall(type5,s)) != 0:\n",
    "            # print(count) use this output to check for exceptions and mistakes\n",
    "            date=list(re.findall(type5,s)[0])\n",
    "            date[0] = month_dict[date[0]]\n",
    "            dateslist.append(date[1]+date[0]+'01')\n",
    "        elif len(re.findall(type6,s)) != 0:\n",
    "            date=list(re.findall(type6,s)[0])\n",
    "            if len(date[0])== 1:\n",
    "                date[0] = '0'+date[0]\n",
    "            dateslist.append(date[1]+date[0]+'01')\n",
    "        elif len(re.findall(type7,s))!= 0:\n",
    "            date=re.findall(type7,s)[0]\n",
    "            dateslist.append(date+'01'+'01')\n",
    "        else :\n",
    "            print(s)    # because the question only mention part of the date form\n",
    "        # try this you will find that there are 3 line with date 4-13-82 1-14-81 4-13-89, so \n",
    "        dates = pd.Series(dateslist)\n",
    "        dates.sort_values(inplace=True)\n",
    "        order = pd.Series(dates.index)\n",
    "    return order"
   ]
  },
  {
   "cell_type": "code",
   "execution_count": 10,
   "metadata": {},
   "outputs": [
    {
     "name": "stdout",
     "output_type": "stream",
     "text": [
      "0        9\n",
      "1       84\n",
      "2        2\n",
      "3       53\n",
      "4       28\n",
      "5      474\n",
      "6      153\n",
      "7       13\n",
      "8      129\n",
      "9       98\n",
      "10     111\n",
      "11     225\n",
      "12      31\n",
      "13     171\n",
      "14     191\n",
      "15     486\n",
      "16     335\n",
      "17     415\n",
      "18      36\n",
      "19     405\n",
      "20     323\n",
      "21     422\n",
      "22     375\n",
      "23     380\n",
      "24     345\n",
      "25      57\n",
      "26     481\n",
      "27     436\n",
      "28     104\n",
      "29     299\n",
      "      ... \n",
      "470    220\n",
      "471    208\n",
      "472    243\n",
      "473    139\n",
      "474    320\n",
      "475    383\n",
      "476    244\n",
      "477    286\n",
      "478    480\n",
      "479    431\n",
      "480    279\n",
      "481    198\n",
      "482    381\n",
      "483    463\n",
      "484    366\n",
      "485    439\n",
      "486    255\n",
      "487    401\n",
      "488    475\n",
      "489    257\n",
      "490    152\n",
      "491    235\n",
      "492    464\n",
      "493    253\n",
      "494    427\n",
      "495    231\n",
      "496    141\n",
      "497    186\n",
      "498    161\n",
      "499    413\n",
      "Length: 500, dtype: int64\n"
     ]
    }
   ],
   "source": [
    "print(date_sorter())"
   ]
  }
 ],
 "metadata": {
  "coursera": {
   "course_slug": "python-text-mining",
   "graded_item_id": "LvcWI",
   "launcher_item_id": "krne9",
   "part_id": "Mkp1I"
  },
  "kernelspec": {
   "display_name": "Python 3",
   "language": "python",
   "name": "python3"
  },
  "language_info": {
   "codemirror_mode": {
    "name": "ipython",
    "version": 3
   },
   "file_extension": ".py",
   "mimetype": "text/x-python",
   "name": "python",
   "nbconvert_exporter": "python",
   "pygments_lexer": "ipython3",
   "version": "3.6.2"
  }
 },
 "nbformat": 4,
 "nbformat_minor": 2
}
