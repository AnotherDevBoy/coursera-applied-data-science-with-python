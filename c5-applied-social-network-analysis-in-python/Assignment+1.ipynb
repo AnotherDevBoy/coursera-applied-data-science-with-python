{
 "cells": [
  {
   "cell_type": "markdown",
   "metadata": {},
   "source": [
    "---\n",
    "\n",
    "_You are currently looking at **version 1.1** of this notebook. To download notebooks and datafiles, as well as get help on Jupyter notebooks in the Coursera platform, visit the [Jupyter Notebook FAQ](https://www.coursera.org/learn/python-social-network-analysis/resources/yPcBs) course resource._\n",
    "\n",
    "---"
   ]
  },
  {
   "cell_type": "markdown",
   "metadata": {},
   "source": [
    "# Assignment 1 - Creating and Manipulating Graphs\n",
    "\n",
    "Eight employees at a small company were asked to choose 3 movies that they would most enjoy watching for the upcoming company movie night. These choices are stored in the file `Employee_Movie_Choices.txt`.\n",
    "\n",
    "A second file, `Employee_Relationships.txt`, has data on the relationships between different coworkers. \n",
    "\n",
    "The relationship score has value of `-100` (Enemies) to `+100` (Best Friends). A value of zero means the two employees haven't interacted or are indifferent.\n",
    "\n",
    "Both files are tab delimited."
   ]
  },
  {
   "cell_type": "code",
   "execution_count": 138,
   "metadata": {},
   "outputs": [],
   "source": [
    "import networkx as nx\n",
    "import pandas as pd\n",
    "import numpy as np\n",
    "from networkx.algorithms import bipartite\n",
    "\n",
    "\n",
    "# This is the set of employees\n",
    "employees = set(['Pablo',\n",
    "                 'Lee',\n",
    "                 'Georgia',\n",
    "                 'Vincent',\n",
    "                 'Andy',\n",
    "                 'Frida',\n",
    "                 'Joan',\n",
    "                 'Claude'])\n",
    "\n",
    "# This is the set of movies\n",
    "movies = set(['The Shawshank Redemption',\n",
    "              'Forrest Gump',\n",
    "              'The Matrix',\n",
    "              'Anaconda',\n",
    "              'The Social Network',\n",
    "              'The Godfather',\n",
    "              'Monty Python and the Holy Grail',\n",
    "              'Snakes on a Plane',\n",
    "              'Kung Fu Panda',\n",
    "              'The Dark Knight',\n",
    "              'Mean Girls'])"
   ]
  },
  {
   "cell_type": "markdown",
   "metadata": {},
   "source": [
    "### Question 1\n",
    "\n",
    "Using NetworkX, load in the bipartite graph from `Employee_Movie_Choices.txt` and return that graph.\n",
    "\n",
    "*This function should return a networkx graph with 19 nodes and 24 edges*"
   ]
  },
  {
   "cell_type": "code",
   "execution_count": 162,
   "metadata": {},
   "outputs": [],
   "source": [
    "def answer_one():\n",
    "    return nx.read_edgelist('Employee_Movie_Choices.txt', delimiter=\"\\t\")"
   ]
  },
  {
   "cell_type": "code",
   "execution_count": 140,
   "metadata": {},
   "outputs": [
    {
     "data": {
      "text/plain": [
       "<networkx.classes.digraph.DiGraph at 0x7f53db64c1d0>"
      ]
     },
     "execution_count": 140,
     "metadata": {},
     "output_type": "execute_result"
    }
   ],
   "source": [
    "answer_one()"
   ]
  },
  {
   "cell_type": "code",
   "execution_count": 161,
   "metadata": {},
   "outputs": [
    {
     "data": {
      "text/plain": [
       "[('Andy', 'Anaconda'),\n",
       " ('Andy', 'Mean Girls'),\n",
       " ('Andy', 'The Matrix'),\n",
       " ('Anaconda', 'Claude'),\n",
       " ('Anaconda', 'Georgia'),\n",
       " ('Mean Girls', 'Joan'),\n",
       " ('Mean Girls', 'Lee'),\n",
       " ('The Matrix', 'Frida'),\n",
       " ('The Matrix', 'Pablo'),\n",
       " ('Claude', 'Monty Python and the Holy Grail'),\n",
       " ('Claude', 'Snakes on a Plane'),\n",
       " ('Monty Python and the Holy Grail', 'Georgia'),\n",
       " ('Snakes on a Plane', 'Georgia'),\n",
       " ('Frida', 'The Shawshank Redemption'),\n",
       " ('Frida', 'The Social Network'),\n",
       " ('The Shawshank Redemption', 'Pablo'),\n",
       " ('The Shawshank Redemption', 'Vincent'),\n",
       " ('The Social Network', 'Vincent'),\n",
       " ('Joan', 'Forrest Gump'),\n",
       " ('Joan', 'Kung Fu Panda'),\n",
       " ('Forrest Gump', 'Lee'),\n",
       " ('Kung Fu Panda', 'Lee'),\n",
       " ('Pablo', 'The Dark Knight'),\n",
       " ('Vincent', 'The Godfather')]"
      ]
     },
     "execution_count": 161,
     "metadata": {},
     "output_type": "execute_result"
    }
   ],
   "source": [
    "answer_one().edges()"
   ]
  },
  {
   "cell_type": "code",
   "execution_count": 141,
   "metadata": {},
   "outputs": [
    {
     "data": {
      "text/plain": [
       "(19, 24)"
      ]
     },
     "execution_count": 141,
     "metadata": {},
     "output_type": "execute_result"
    }
   ],
   "source": [
    "len(answer_one().nodes()), len(answer_one().edges())"
   ]
  },
  {
   "cell_type": "markdown",
   "metadata": {},
   "source": [
    "### Question 2\n",
    "\n",
    "Using the graph from the previous question, add nodes attributes named `'type'` where movies have the value `'movie'` and employees have the value `'employee'` and return that graph.\n",
    "\n",
    "*This function should return a networkx graph with node attributes `{'type': 'movie'}` or `{'type': 'employee'}`*"
   ]
  },
  {
   "cell_type": "code",
   "execution_count": 163,
   "metadata": {},
   "outputs": [],
   "source": [
    "def answer_two():\n",
    "    g = nx.read_edgelist('Employee_Movie_Choices.txt', delimiter=\"\\t\", create_using=nx.DiGraph())\n",
    "\n",
    "    employees = set([edge[0] for edge in g.edges()])\n",
    "    movies = set([edge[1] for edge in g.edges()])\n",
    "\n",
    "    for e in employees:\n",
    "        g.add_node(e, type='employee')\n",
    "\n",
    "    for m in movies:\n",
    "        g.add_node(m, type='movie')\n",
    "    \n",
    "    return g.to_undirected()"
   ]
  },
  {
   "cell_type": "code",
   "execution_count": 164,
   "metadata": {},
   "outputs": [
    {
     "data": {
      "text/plain": [
       "[('Andy', {'type': 'employee'}),\n",
       " ('Anaconda', {'type': 'movie'}),\n",
       " ('Mean Girls', {'type': 'movie'}),\n",
       " ('The Matrix', {'type': 'movie'}),\n",
       " ('Claude', {'type': 'employee'}),\n",
       " ('Monty Python and the Holy Grail', {'type': 'movie'}),\n",
       " ('Snakes on a Plane', {'type': 'movie'}),\n",
       " ('Frida', {'type': 'employee'}),\n",
       " ('The Shawshank Redemption', {'type': 'movie'}),\n",
       " ('The Social Network', {'type': 'movie'}),\n",
       " ('Georgia', {'type': 'employee'}),\n",
       " ('Joan', {'type': 'employee'}),\n",
       " ('Forrest Gump', {'type': 'movie'}),\n",
       " ('Kung Fu Panda', {'type': 'movie'}),\n",
       " ('Lee', {'type': 'employee'}),\n",
       " ('Pablo', {'type': 'employee'}),\n",
       " ('The Dark Knight', {'type': 'movie'}),\n",
       " ('Vincent', {'type': 'employee'}),\n",
       " ('The Godfather', {'type': 'movie'})]"
      ]
     },
     "execution_count": 164,
     "metadata": {},
     "output_type": "execute_result"
    }
   ],
   "source": [
    "answer_two().nodes(data=True)"
   ]
  },
  {
   "cell_type": "code",
   "execution_count": 145,
   "metadata": {},
   "outputs": [
    {
     "data": {
      "text/plain": [
       "[('Andy', 'Anaconda', {}),\n",
       " ('Andy', 'Mean Girls', {}),\n",
       " ('Andy', 'The Matrix', {}),\n",
       " ('Claude', 'Anaconda', {}),\n",
       " ('Claude', 'Monty Python and the Holy Grail', {}),\n",
       " ('Claude', 'Snakes on a Plane', {}),\n",
       " ('Frida', 'The Matrix', {}),\n",
       " ('Frida', 'The Shawshank Redemption', {}),\n",
       " ('Frida', 'The Social Network', {}),\n",
       " ('Georgia', 'Anaconda', {}),\n",
       " ('Georgia', 'Monty Python and the Holy Grail', {}),\n",
       " ('Georgia', 'Snakes on a Plane', {}),\n",
       " ('Joan', 'Forrest Gump', {}),\n",
       " ('Joan', 'Kung Fu Panda', {}),\n",
       " ('Joan', 'Mean Girls', {}),\n",
       " ('Lee', 'Forrest Gump', {}),\n",
       " ('Lee', 'Kung Fu Panda', {}),\n",
       " ('Lee', 'Mean Girls', {}),\n",
       " ('Pablo', 'The Dark Knight', {}),\n",
       " ('Pablo', 'The Matrix', {}),\n",
       " ('Pablo', 'The Shawshank Redemption', {}),\n",
       " ('Vincent', 'The Godfather', {}),\n",
       " ('Vincent', 'The Shawshank Redemption', {}),\n",
       " ('Vincent', 'The Social Network', {})]"
      ]
     },
     "execution_count": 145,
     "metadata": {},
     "output_type": "execute_result"
    }
   ],
   "source": [
    "answer_two().edges(data=True)"
   ]
  },
  {
   "cell_type": "markdown",
   "metadata": {
    "collapsed": true
   },
   "source": [
    "### Question 3\n",
    "\n",
    "Find a weighted projection of the graph from `answer_two` which tells us how many movies different pairs of employees have in common.\n",
    "\n",
    "*This function should return a weighted projected graph.*"
   ]
  },
  {
   "cell_type": "code",
   "execution_count": 173,
   "metadata": {
    "collapsed": true
   },
   "outputs": [],
   "source": [
    "def answer_three():\n",
    "    g = answer_two()\n",
    "    employees = [node[0] for node in g.nodes(data=True) if node[1]['type'] == 'employee']\n",
    "    p = bipartite.weighted_projected_graph(g, employees)\n",
    "    \n",
    "    return p"
   ]
  },
  {
   "cell_type": "code",
   "execution_count": 174,
   "metadata": {},
   "outputs": [
    {
     "data": {
      "text/plain": [
       "<networkx.classes.graph.Graph at 0x7f53db63b978>"
      ]
     },
     "execution_count": 174,
     "metadata": {},
     "output_type": "execute_result"
    }
   ],
   "source": [
    "answer_three()"
   ]
  },
  {
   "cell_type": "code",
   "execution_count": 159,
   "metadata": {},
   "outputs": [
    {
     "data": {
      "text/plain": [
       "[('Georgia', 'Claude', {'weight': 3}),\n",
       " ('Georgia', 'Andy', {'weight': 1}),\n",
       " ('Frida', 'Vincent', {'weight': 2}),\n",
       " ('Frida', 'Andy', {'weight': 1}),\n",
       " ('Frida', 'Pablo', {'weight': 2}),\n",
       " ('Andy', 'Lee', {'weight': 1}),\n",
       " ('Andy', 'Joan', {'weight': 1}),\n",
       " ('Andy', 'Pablo', {'weight': 1}),\n",
       " ('Andy', 'Claude', {'weight': 1}),\n",
       " ('Lee', 'Joan', {'weight': 3}),\n",
       " ('Pablo', 'Vincent', {'weight': 1})]"
      ]
     },
     "execution_count": 159,
     "metadata": {},
     "output_type": "execute_result"
    }
   ],
   "source": [
    "answer_three().edges(data=True)"
   ]
  },
  {
   "cell_type": "markdown",
   "metadata": {
    "collapsed": true
   },
   "source": [
    "### Question 4\n",
    "\n",
    "Suppose you'd like to find out if people that have a high relationship score also like the same types of movies.\n",
    "\n",
    "Find the Pearson correlation ( using `DataFrame.corr()` ) between employee relationship scores and the number of movies they have in common. If two employees have no movies in common it should be treated as a 0, not a missing value, and should be included in the correlation calculation.\n",
    "\n",
    "*This function should return a float.*"
   ]
  },
  {
   "cell_type": "code",
   "execution_count": 252,
   "metadata": {
    "collapsed": true
   },
   "outputs": [],
   "source": [
    "def answer_four():\n",
    "    g = answer_three()\n",
    "    relationships = nx.read_edgelist('Employee_Relationships.txt' ,data=[('relationship_score', int)])\n",
    "\n",
    "    g_df = pd.DataFrame(g.edges(data=True), columns=['From', 'To', 'movies_score'])\n",
    "    g_df['movies_score'] = g_df['movies_score'].map(lambda x: x['weight'])\n",
    "\n",
    "    relationships_df = pd.DataFrame(relationships.edges(data=True), columns=['From', 'To', 'relationship_score'])\n",
    "    relationships_df['relationship_score'] = relationships_df['relationship_score'].map(lambda x: x['relationship_score'])\n",
    "\n",
    "    final_df = pd.merge(g_df, relationships_df, on = ['From', 'To'], how='right')\n",
    "    \n",
    "    final_df['movies_score'] = final_df['movies_score'].fillna(0)\n",
    "    final_df['movies_score'] = final_df['movies_score'].astype(int)\n",
    "    \n",
    "    return final_df['movies_score'].corr(final_df['relationship_score'])"
   ]
  },
  {
   "cell_type": "code",
   "execution_count": 253,
   "metadata": {},
   "outputs": [
    {
     "data": {
      "text/plain": [
       "0.78839622217334748"
      ]
     },
     "execution_count": 253,
     "metadata": {},
     "output_type": "execute_result"
    }
   ],
   "source": [
    "answer_four()"
   ]
  }
 ],
 "metadata": {
  "coursera": {
   "course_slug": "python-social-network-analysis",
   "graded_item_id": "YNa9b",
   "launcher_item_id": "hvNc1",
   "part_id": "VbyiB"
  },
  "kernelspec": {
   "display_name": "Python 3",
   "language": "python",
   "name": "python3"
  },
  "language_info": {
   "codemirror_mode": {
    "name": "ipython",
    "version": 3
   },
   "file_extension": ".py",
   "mimetype": "text/x-python",
   "name": "python",
   "nbconvert_exporter": "python",
   "pygments_lexer": "ipython3",
   "version": "3.6.2"
  }
 },
 "nbformat": 4,
 "nbformat_minor": 2
}
