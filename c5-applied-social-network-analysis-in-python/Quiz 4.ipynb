{
 "cells": [
  {
   "cell_type": "code",
   "execution_count": 11,
   "metadata": {},
   "outputs": [],
   "source": [
    "import networkx as nx\n",
    "import operator\n",
    "\n",
    "g = nx.Graph()\n",
    "\n",
    "g.add_edge('C', 'G')\n",
    "g.add_edge('C', 'A')\n",
    "g.add_edge('G', 'D')\n",
    "g.add_edge('A', 'D')\n",
    "g.add_edge('A', 'E')\n",
    "g.add_edge('D', 'B')\n",
    "g.add_edge('D', 'E')\n",
    "g.add_edge('D', 'H')\n",
    "g.add_edge('E', 'H')\n",
    "g.add_edge('H', 'F')\n",
    "\n",
    "g.node['A']['community'] = 0\n",
    "g.node['B']['community'] = 0\n",
    "g.node['C']['community'] = 0\n",
    "g.node['D']['community'] = 0\n",
    "g.node['G']['community'] = 0\n",
    "\n",
    "g.node['E']['community'] = 1\n",
    "g.node['F']['community'] = 1\n",
    "g.node['H']['community'] = 1"
   ]
  },
  {
   "cell_type": "code",
   "execution_count": 12,
   "metadata": {},
   "outputs": [
    {
     "data": {
      "text/plain": [
       "[('G', 'A', 0.6666666666666666),\n",
       " ('B', 'G', 0.5),\n",
       " ('H', 'A', 0.5),\n",
       " ('C', 'D', 0.4),\n",
       " ('B', 'A', 0.3333333333333333),\n",
       " ('B', 'H', 0.3333333333333333),\n",
       " ('B', 'E', 0.3333333333333333),\n",
       " ('F', 'E', 0.3333333333333333),\n",
       " ('H', 'G', 0.25),\n",
       " ('G', 'E', 0.25),\n",
       " ('C', 'E', 0.25),\n",
       " ('D', 'F', 0.2),\n",
       " ('B', 'C', 0.0),\n",
       " ('B', 'F', 0.0),\n",
       " ('H', 'C', 0.0),\n",
       " ('G', 'F', 0.0),\n",
       " ('C', 'F', 0.0),\n",
       " ('A', 'F', 0.0)]"
      ]
     },
     "execution_count": 12,
     "metadata": {},
     "output_type": "execute_result"
    }
   ],
   "source": [
    "l = list(nx.jaccard_coefficient(g))\n",
    "l.sort(key=operator.itemgetter(2), reverse=True)\n",
    "l"
   ]
  },
  {
   "cell_type": "code",
   "execution_count": 10,
   "metadata": {},
   "outputs": [
    {
     "data": {
      "text/plain": [
       "[('C', 'D', 10),\n",
       " ('H', 'A', 9),\n",
       " ('H', 'G', 6),\n",
       " ('H', 'C', 6),\n",
       " ('G', 'A', 6),\n",
       " ('G', 'E', 6),\n",
       " ('C', 'E', 6),\n",
       " ('D', 'F', 5),\n",
       " ('B', 'A', 3),\n",
       " ('B', 'H', 3),\n",
       " ('B', 'E', 3),\n",
       " ('A', 'F', 3),\n",
       " ('F', 'E', 3),\n",
       " ('B', 'G', 2),\n",
       " ('B', 'C', 2),\n",
       " ('G', 'F', 2),\n",
       " ('C', 'F', 2),\n",
       " ('B', 'F', 1)]"
      ]
     },
     "execution_count": 10,
     "metadata": {},
     "output_type": "execute_result"
    }
   ],
   "source": [
    "l = list(nx.preferential_attachment(g))\n",
    "l.sort(key=operator.itemgetter(2), reverse=True)\n",
    "l"
   ]
  },
  {
   "cell_type": "code",
   "execution_count": 5,
   "metadata": {},
   "outputs": [
    {
     "data": {
      "text/plain": [
       "[('B', 'A', 2),\n",
       " ('B', 'G', 2),\n",
       " ('B', 'C', 0),\n",
       " ('B', 'H', 1),\n",
       " ('B', 'F', 0),\n",
       " ('B', 'E', 1),\n",
       " ('H', 'G', 1),\n",
       " ('H', 'A', 2),\n",
       " ('H', 'C', 0),\n",
       " ('G', 'A', 4),\n",
       " ('G', 'F', 0),\n",
       " ('G', 'E', 1),\n",
       " ('C', 'D', 4),\n",
       " ('C', 'F', 0),\n",
       " ('C', 'E', 1),\n",
       " ('A', 'F', 0),\n",
       " ('D', 'F', 1),\n",
       " ('F', 'E', 2)]"
      ]
     },
     "execution_count": 5,
     "metadata": {},
     "output_type": "execute_result"
    }
   ],
   "source": [
    "list(nx.cn_soundarajan_hopcroft(g))"
   ]
  },
  {
   "cell_type": "code",
   "execution_count": 7,
   "metadata": {},
   "outputs": [
    {
     "data": {
      "text/plain": [
       "[('B', 'A', 0.2),\n",
       " ('B', 'G', 0.2),\n",
       " ('B', 'C', 0),\n",
       " ('B', 'H', 0),\n",
       " ('B', 'F', 0),\n",
       " ('B', 'E', 0),\n",
       " ('H', 'G', 0),\n",
       " ('H', 'A', 0),\n",
       " ('H', 'C', 0),\n",
       " ('G', 'A', 0.7),\n",
       " ('G', 'F', 0),\n",
       " ('G', 'E', 0),\n",
       " ('C', 'D', 0.8333333333333333),\n",
       " ('C', 'F', 0),\n",
       " ('C', 'E', 0),\n",
       " ('A', 'F', 0),\n",
       " ('D', 'F', 0),\n",
       " ('F', 'E', 0.3333333333333333)]"
      ]
     },
     "execution_count": 7,
     "metadata": {},
     "output_type": "execute_result"
    }
   ],
   "source": [
    "list(nx.ra_index_soundarajan_hopcroft(g))"
   ]
  }
 ],
 "metadata": {
  "kernelspec": {
   "display_name": "Python 3",
   "language": "python",
   "name": "python3"
  },
  "language_info": {
   "codemirror_mode": {
    "name": "ipython",
    "version": 3
   },
   "file_extension": ".py",
   "mimetype": "text/x-python",
   "name": "python",
   "nbconvert_exporter": "python",
   "pygments_lexer": "ipython3",
   "version": "3.7.1"
  }
 },
 "nbformat": 4,
 "nbformat_minor": 2
}
